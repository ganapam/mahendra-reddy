{
 "cells": [
  {
   "cell_type": "code",
   "execution_count": null,
   "id": "b005066f",
   "metadata": {},
   "outputs": [],
   "source": [
    "from datetime import datetime\n",
    "name=input(\"enter your name\")\n",
    "lists=''' Rice   Rs 20/kg\n",
    "          Sugar  Rs 30/kg\n",
    "          Salt   Rs 20/kg\n",
    "          Oil    Rs 80/liter\n",
    "          panner Rs 110/kg '''\n",
    "price=0\n",
    "pricelist=[]\n",
    "totalprice=0\n",
    "Finalfinalprice=0\n",
    "ilist=[]\n",
    "qlist=[]\n",
    "plist=[]\n",
    "items={'rice':20,'sugar':30,'salt':20,'oil':80,'panner':110}\n",
    "option=int(input('for list of items press 1'))\n",
    "if option==1:\n",
    "    print(lists)\n",
    "for i in range(len(items)):\n",
    "    inp1=int(input('if you want buy prees 1 or 2 for exite'))\n",
    "    if inp1==2:\n",
    "        break\n",
    "    if inp1==1:\n",
    "        item=input('enter your items')\n",
    "        quantity=int(input('enter quantity'))\n",
    "        if item in items.keys():\n",
    "            price=quantity*(items[item])\n",
    "            pricelist.append((items,quantity,items,price))\n",
    "            totalprice+=price\n",
    "            ilist.append(item)\n",
    "            qlist.append(quantity)\n",
    "            plist.append(price)\n",
    "            gst=(totalprice*5)/100\n",
    "            finalamount=gst+totalprice\n",
    "        else:\n",
    "            print('sorry you enterd item is not aviable')\n",
    "    else:\n",
    "            print('you enterd wrong number')\n",
    "    inp=input('can i bill the items yes or no')\n",
    "    if inp=='yes':\n",
    "        pass\n",
    "        if finalamount+=0:\n",
    "            print(25*'=','Mahendra supermarket',25*'=')\n",
    "            print(28*' ','VINJAMUR')\n",
    "            print('Name',name,30*' ','date',datetime.now())\n",
    "            print(75*'-')\n",
    "            print('sno',8*' ','name',3*' ','quantity',3*' ','price')\n",
    "        for i in range(len(pricelist)):\n",
    "            print(i,8*' ',5*' ',ilist[i],3*' ',qlist[i],8*' ',plist[i])\n",
    "            print(75*'-')\n",
    "            print(50*' ','totalamount','Rs',totalprice)\n",
    "            print(75*'-')\n",
    "            print(50*' ','finalamount','Rs',finalamount)\n",
    "            print(75*'-')\n",
    "            print(20*' ','THANKS FOR VISITING')\n",
    "            print(75*'-')\n",
    "            "
   ]
  },
  {
   "cell_type": "code",
   "execution_count": null,
   "id": "68b94716",
   "metadata": {},
   "outputs": [],
   "source": []
  }
 ],
 "metadata": {
  "kernelspec": {
   "display_name": "Python 3",
   "language": "python",
   "name": "python3"
  },
  "language_info": {
   "codemirror_mode": {
    "name": "ipython",
    "version": 3
   },
   "file_extension": ".py",
   "mimetype": "text/x-python",
   "name": "python",
   "nbconvert_exporter": "python",
   "pygments_lexer": "ipython3",
   "version": "3.8.8"
  }
 },
 "nbformat": 4,
 "nbformat_minor": 5
}
